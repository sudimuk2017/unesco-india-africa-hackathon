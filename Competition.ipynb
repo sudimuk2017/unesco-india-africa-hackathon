{
 "cells": [
  {
   "cell_type": "code",
   "execution_count": 29,
   "metadata": {},
   "outputs": [],
   "source": [
    "import pandas as pd\n",
    "import matplotlib.pyplot as plt\n",
    "import seaborn as sns\n",
    "%matplotlib inline"
   ]
  },
  {
   "cell_type": "code",
   "execution_count": 30,
   "metadata": {},
   "outputs": [],
   "source": [
    "import warnings\n",
    "warnings.filterwarnings(\"ignore\")"
   ]
  },
  {
   "cell_type": "code",
   "execution_count": 31,
   "metadata": {},
   "outputs": [
    {
     "name": "stdout",
     "output_type": "stream",
     "text": [
      "/home/sudi/Desktop/India\r\n"
     ]
    }
   ],
   "source": [
    "!pwd"
   ]
  },
  {
   "cell_type": "code",
   "execution_count": 32,
   "metadata": {},
   "outputs": [
    {
     "name": "stdout",
     "output_type": "stream",
     "text": [
      "archive  archive.zip  Competition.ipynb\r\n"
     ]
    }
   ],
   "source": [
    "!ls"
   ]
  },
  {
   "cell_type": "code",
   "execution_count": 33,
   "metadata": {},
   "outputs": [],
   "source": [
    "df = pd.read_csv(\"archive/demo.csv\")"
   ]
  },
  {
   "cell_type": "code",
   "execution_count": 34,
   "metadata": {},
   "outputs": [
    {
     "data": {
      "text/html": [
       "<div>\n",
       "<style scoped>\n",
       "    .dataframe tbody tr th:only-of-type {\n",
       "        vertical-align: middle;\n",
       "    }\n",
       "\n",
       "    .dataframe tbody tr th {\n",
       "        vertical-align: top;\n",
       "    }\n",
       "\n",
       "    .dataframe thead th {\n",
       "        text-align: right;\n",
       "    }\n",
       "</style>\n",
       "<table border=\"1\" class=\"dataframe\">\n",
       "  <thead>\n",
       "    <tr style=\"text-align: right;\">\n",
       "      <th></th>\n",
       "      <th>Sr. No</th>\n",
       "      <th>Timestamp</th>\n",
       "      <th>Email address</th>\n",
       "      <th>Your Name</th>\n",
       "      <th>City</th>\n",
       "      <th>Current Qualification (please be specific here) For eg : (B.Com, B.Sc C.S, B.Tech)</th>\n",
       "      <th>In which field would you like to pursue your career in the future?</th>\n",
       "      <th>I understand and agree that the information provided above is correct and I'm willing to do career guidance and counselling session for me / my child.</th>\n",
       "      <th>I like to work on cars</th>\n",
       "      <th>I like to build things</th>\n",
       "      <th>...</th>\n",
       "      <th>I like to do filing or typing</th>\n",
       "      <th>I am good at keeping records of my work</th>\n",
       "      <th>I would like to work in an office</th>\n",
       "      <th>R</th>\n",
       "      <th>I</th>\n",
       "      <th>A</th>\n",
       "      <th>S</th>\n",
       "      <th>E</th>\n",
       "      <th>C</th>\n",
       "      <th>class</th>\n",
       "    </tr>\n",
       "  </thead>\n",
       "  <tbody>\n",
       "    <tr>\n",
       "      <th>0</th>\n",
       "      <td>7</td>\n",
       "      <td>06-04-2022 12:05</td>\n",
       "      <td>aakash.patel1@gmail.com</td>\n",
       "      <td>Aakash</td>\n",
       "      <td>Ahmedabad</td>\n",
       "      <td>Bachelor of engineering</td>\n",
       "      <td>Big data</td>\n",
       "      <td>I agree</td>\n",
       "      <td>yes</td>\n",
       "      <td>yes</td>\n",
       "      <td>...</td>\n",
       "      <td>no</td>\n",
       "      <td>no</td>\n",
       "      <td>yes</td>\n",
       "      <td>5</td>\n",
       "      <td>5</td>\n",
       "      <td>3</td>\n",
       "      <td>6</td>\n",
       "      <td>3</td>\n",
       "      <td>4</td>\n",
       "      <td>S</td>\n",
       "    </tr>\n",
       "    <tr>\n",
       "      <th>1</th>\n",
       "      <td>111</td>\n",
       "      <td>20-04-2022 12:10</td>\n",
       "      <td>ystwuw@gmail.com</td>\n",
       "      <td>Yash patel</td>\n",
       "      <td>Ahmedabad</td>\n",
       "      <td>b.tech</td>\n",
       "      <td>M.tech</td>\n",
       "      <td>I agree</td>\n",
       "      <td>yes</td>\n",
       "      <td>yes</td>\n",
       "      <td>...</td>\n",
       "      <td>yes</td>\n",
       "      <td>yes</td>\n",
       "      <td>yes</td>\n",
       "      <td>7</td>\n",
       "      <td>7</td>\n",
       "      <td>7</td>\n",
       "      <td>7</td>\n",
       "      <td>7</td>\n",
       "      <td>7</td>\n",
       "      <td>any</td>\n",
       "    </tr>\n",
       "    <tr>\n",
       "      <th>2</th>\n",
       "      <td>13</td>\n",
       "      <td>06-04-2022 14:02</td>\n",
       "      <td>satwiknakhate2000@gmail.com</td>\n",
       "      <td>Satwik</td>\n",
       "      <td>Ambajogai</td>\n",
       "      <td>Btech</td>\n",
       "      <td>Computer science</td>\n",
       "      <td>I agree</td>\n",
       "      <td>no</td>\n",
       "      <td>no</td>\n",
       "      <td>...</td>\n",
       "      <td>no</td>\n",
       "      <td>no</td>\n",
       "      <td>no</td>\n",
       "      <td>1</td>\n",
       "      <td>4</td>\n",
       "      <td>7</td>\n",
       "      <td>4</td>\n",
       "      <td>2</td>\n",
       "      <td>0</td>\n",
       "      <td>A</td>\n",
       "    </tr>\n",
       "    <tr>\n",
       "      <th>3</th>\n",
       "      <td>80</td>\n",
       "      <td>15-04-2022 22:54</td>\n",
       "      <td>siddhant.dixit212@gmail.com</td>\n",
       "      <td>Avinash Kale</td>\n",
       "      <td>Ambajogai</td>\n",
       "      <td>MBBS</td>\n",
       "      <td>Doctor</td>\n",
       "      <td>I agree</td>\n",
       "      <td>no</td>\n",
       "      <td>no</td>\n",
       "      <td>...</td>\n",
       "      <td>no</td>\n",
       "      <td>yes</td>\n",
       "      <td>no</td>\n",
       "      <td>4</td>\n",
       "      <td>5</td>\n",
       "      <td>1</td>\n",
       "      <td>4</td>\n",
       "      <td>1</td>\n",
       "      <td>5</td>\n",
       "      <td>I</td>\n",
       "    </tr>\n",
       "    <tr>\n",
       "      <th>4</th>\n",
       "      <td>81</td>\n",
       "      <td>15-04-2022 22:57</td>\n",
       "      <td>siddhant.dixit212@gmail.com</td>\n",
       "      <td>Soham Yadav</td>\n",
       "      <td>Ambajogai</td>\n",
       "      <td>B.tech</td>\n",
       "      <td>Software Engineer</td>\n",
       "      <td>I agree</td>\n",
       "      <td>no</td>\n",
       "      <td>no</td>\n",
       "      <td>...</td>\n",
       "      <td>yes</td>\n",
       "      <td>no</td>\n",
       "      <td>yes</td>\n",
       "      <td>1</td>\n",
       "      <td>6</td>\n",
       "      <td>1</td>\n",
       "      <td>6</td>\n",
       "      <td>4</td>\n",
       "      <td>6</td>\n",
       "      <td>I</td>\n",
       "    </tr>\n",
       "  </tbody>\n",
       "</table>\n",
       "<p>5 rows × 57 columns</p>\n",
       "</div>"
      ],
      "text/plain": [
       "   Sr. No         Timestamp                Email address     Your Name  \\\n",
       "0       7  06-04-2022 12:05      aakash.patel1@gmail.com       Aakash    \n",
       "1     111  20-04-2022 12:10             ystwuw@gmail.com    Yash patel   \n",
       "2      13  06-04-2022 14:02  satwiknakhate2000@gmail.com        Satwik   \n",
       "3      80  15-04-2022 22:54  siddhant.dixit212@gmail.com  Avinash Kale   \n",
       "4      81  15-04-2022 22:57  siddhant.dixit212@gmail.com   Soham Yadav   \n",
       "\n",
       "        City  \\\n",
       "0  Ahmedabad   \n",
       "1  Ahmedabad   \n",
       "2  Ambajogai   \n",
       "3  Ambajogai   \n",
       "4  Ambajogai   \n",
       "\n",
       "  Current Qualification (please be specific here) For eg : (B.Com, B.Sc C.S, B.Tech)  \\\n",
       "0                            Bachelor of engineering                                   \n",
       "1                                             b.tech                                   \n",
       "2                                             Btech                                    \n",
       "3                                               MBBS                                   \n",
       "4                                             B.tech                                   \n",
       "\n",
       "  In which field would you like to pursue your career in the future?  \\\n",
       "0                                           Big data                   \n",
       "1                                             M.tech                   \n",
       "2                                  Computer science                    \n",
       "3                                             Doctor                   \n",
       "4                                  Software Engineer                   \n",
       "\n",
       "  I understand and agree that the information provided above is correct and I'm willing to do career guidance and counselling session for me / my child.  \\\n",
       "0                                            I agree                                                                                                       \n",
       "1                                            I agree                                                                                                       \n",
       "2                                            I agree                                                                                                       \n",
       "3                                            I agree                                                                                                       \n",
       "4                                            I agree                                                                                                       \n",
       "\n",
       "  I like to work on cars I like to build things  ...  \\\n",
       "0                    yes                    yes  ...   \n",
       "1                    yes                    yes  ...   \n",
       "2                     no                     no  ...   \n",
       "3                     no                     no  ...   \n",
       "4                     no                     no  ...   \n",
       "\n",
       "  I like to do filing or typing I am good at keeping records of my work  \\\n",
       "0                            no                                      no   \n",
       "1                           yes                                     yes   \n",
       "2                            no                                      no   \n",
       "3                            no                                     yes   \n",
       "4                           yes                                      no   \n",
       "\n",
       "  I would like to work in an office  R  I  A  S  E  C class  \n",
       "0                               yes  5  5  3  6  3  4     S  \n",
       "1                               yes  7  7  7  7  7  7   any  \n",
       "2                                no  1  4  7  4  2  0     A  \n",
       "3                                no  4  5  1  4  1  5     I  \n",
       "4                               yes  1  6  1  6  4  6     I  \n",
       "\n",
       "[5 rows x 57 columns]"
      ]
     },
     "execution_count": 34,
     "metadata": {},
     "output_type": "execute_result"
    }
   ],
   "source": [
    "df.head()"
   ]
  },
  {
   "cell_type": "code",
   "execution_count": 35,
   "metadata": {},
   "outputs": [
    {
     "data": {
      "text/plain": [
       "Index(['Sr. No', 'Timestamp', 'Email address', 'Your Name', 'City',\n",
       "       'Current Qualification (please be specific here) For eg : (B.Com, B.Sc C.S, B.Tech)',\n",
       "       'In which field would you like to pursue your career in the future?',\n",
       "       'I understand and agree that the information provided above is correct and I'm willing to do career guidance and counselling session for me / my child.',\n",
       "       'I like to work on cars', 'I like to build things',\n",
       "       'I like to take care of animals',\n",
       "       'I like putting things together or assembling things', 'I like to cook',\n",
       "       'I am a practical person', 'I like working outdoors',\n",
       "       'I like to do puzzles', 'I like to do experiments', 'I enjoy science',\n",
       "       'I enjoy trying to figure out how things work',\n",
       "       'I like to analyze things (problems/situations)',\n",
       "       'I like working with numbers or charts', 'I’m good at math',\n",
       "       'I am good at working independently',\n",
       "       'I like to read about art and music', 'I enjoy creative writing',\n",
       "       'I am a creative person', 'I like to play instruments or sing',\n",
       "       'I like acting in plays', 'I like to draw', 'I like to work in teams',\n",
       "       'I like to teach or train people',\n",
       "       'I like trying to help people solve their problems',\n",
       "       'I am interested in healing people',\n",
       "       'I enjoy learning about other cultures',\n",
       "       'I like to get into discussions about issues', 'I like helping people',\n",
       "       'I am an ambitious person,I set goals for myself',\n",
       "       'I like to try to influence or persuade people',\n",
       "       'I like selling things', 'I am quick to take on new responsibilities',\n",
       "       'I would like to start my own business', 'I like to lead',\n",
       "       'I like to give speeches',\n",
       "       'I like to organize things,(files, desks/offices)',\n",
       "       'I like to have clear instructions to follow',\n",
       "       'I wouldn’t mind working 8 hours per day in an office',\n",
       "       'I pay attention to details', 'I like to do filing or typing',\n",
       "       'I am good at keeping records of my work',\n",
       "       'I would like to work in an office', 'R', 'I', 'A', 'S', 'E', 'C',\n",
       "       'class'],\n",
       "      dtype='object')"
      ]
     },
     "execution_count": 35,
     "metadata": {},
     "output_type": "execute_result"
    }
   ],
   "source": [
    "df.columns"
   ]
  },
  {
   "cell_type": "code",
   "execution_count": 36,
   "metadata": {},
   "outputs": [],
   "source": [
    "#extract dataset information\n",
    "def information(df):\n",
    "    print(\" Our dataset has the following number of Columns and Rows\",df.shape)\n",
    "    print(\"\\n\")\n",
    "    print(\"We have the following columns\",df.columns)\n",
    "    print(\"\\n\")\n",
    "    print(\"My attributes have the following data types \",df.dtypes)\n",
    "    print(\"\\n\")\n",
    "    print(\"Here is the brief summary of my dataset\", df.info())\n",
    "    print(\"\\n\")\n",
    "    print(\"My dataset have the following number of following attributes\",df.nunique())\n",
    "    print(\"\\n\")\n",
    "    print(\"My dataset have the following missing values\",df.isnull().sum())\n",
    "    print(\"\\n\")\n",
    "    print(\"My dataset have this number of duplicates\",sum(df.duplicated()))"
   ]
  },
  {
   "cell_type": "code",
   "execution_count": 37,
   "metadata": {},
   "outputs": [
    {
     "name": "stdout",
     "output_type": "stream",
     "text": [
      " Our dataset has the following number of Columns and Rows (140, 57)\n",
      "\n",
      "\n",
      "We have the following columns Index(['Sr. No', 'Timestamp', 'Email address', 'Your Name', 'City',\n",
      "       'Current Qualification (please be specific here) For eg : (B.Com, B.Sc C.S, B.Tech)',\n",
      "       'In which field would you like to pursue your career in the future?',\n",
      "       'I understand and agree that the information provided above is correct and I'm willing to do career guidance and counselling session for me / my child.',\n",
      "       'I like to work on cars', 'I like to build things',\n",
      "       'I like to take care of animals',\n",
      "       'I like putting things together or assembling things', 'I like to cook',\n",
      "       'I am a practical person', 'I like working outdoors',\n",
      "       'I like to do puzzles', 'I like to do experiments', 'I enjoy science',\n",
      "       'I enjoy trying to figure out how things work',\n",
      "       'I like to analyze things (problems/situations)',\n",
      "       'I like working with numbers or charts', 'I’m good at math',\n",
      "       'I am good at working independently',\n",
      "       'I like to read about art and music', 'I enjoy creative writing',\n",
      "       'I am a creative person', 'I like to play instruments or sing',\n",
      "       'I like acting in plays', 'I like to draw', 'I like to work in teams',\n",
      "       'I like to teach or train people',\n",
      "       'I like trying to help people solve their problems',\n",
      "       'I am interested in healing people',\n",
      "       'I enjoy learning about other cultures',\n",
      "       'I like to get into discussions about issues', 'I like helping people',\n",
      "       'I am an ambitious person,I set goals for myself',\n",
      "       'I like to try to influence or persuade people',\n",
      "       'I like selling things', 'I am quick to take on new responsibilities',\n",
      "       'I would like to start my own business', 'I like to lead',\n",
      "       'I like to give speeches',\n",
      "       'I like to organize things,(files, desks/offices)',\n",
      "       'I like to have clear instructions to follow',\n",
      "       'I wouldn’t mind working 8 hours per day in an office',\n",
      "       'I pay attention to details', 'I like to do filing or typing',\n",
      "       'I am good at keeping records of my work',\n",
      "       'I would like to work in an office', 'R', 'I', 'A', 'S', 'E', 'C',\n",
      "       'class'],\n",
      "      dtype='object')\n",
      "\n",
      "\n",
      "My attributes have the following data types  Sr. No                                                                                                                                                     int64\n",
      "Timestamp                                                                                                                                                 object\n",
      "Email address                                                                                                                                             object\n",
      "Your Name                                                                                                                                                 object\n",
      "City                                                                                                                                                      object\n",
      "Current Qualification (please be specific here) For eg : (B.Com, B.Sc C.S, B.Tech)                                                                        object\n",
      "In which field would you like to pursue your career in the future?                                                                                        object\n",
      "I understand and agree that the information provided above is correct and I'm willing to do career guidance and counselling session for me / my child.    object\n",
      "I like to work on cars                                                                                                                                    object\n",
      "I like to build things                                                                                                                                    object\n",
      "I like to take care of animals                                                                                                                            object\n",
      "I like putting things together or assembling things                                                                                                       object\n",
      "I like to cook                                                                                                                                            object\n",
      "I am a practical person                                                                                                                                   object\n",
      "I like working outdoors                                                                                                                                   object\n",
      "I like to do puzzles                                                                                                                                      object\n",
      "I like to do experiments                                                                                                                                  object\n",
      "I enjoy science                                                                                                                                           object\n",
      "I enjoy trying to figure out how things work                                                                                                              object\n",
      "I like to analyze things (problems/situations)                                                                                                            object\n",
      "I like working with numbers or charts                                                                                                                     object\n",
      "I’m good at math                                                                                                                                          object\n",
      "I am good at working independently                                                                                                                        object\n",
      "I like to read about art and music                                                                                                                        object\n",
      "I enjoy creative writing                                                                                                                                  object\n",
      "I am a creative person                                                                                                                                    object\n",
      "I like to play instruments or sing                                                                                                                        object\n",
      "I like acting in plays                                                                                                                                    object\n",
      "I like to draw                                                                                                                                            object\n",
      "I like to work in teams                                                                                                                                   object\n",
      "I like to teach or train people                                                                                                                           object\n",
      "I like trying to help people solve their problems                                                                                                         object\n",
      "I am interested in healing people                                                                                                                         object\n",
      "I enjoy learning about other cultures                                                                                                                     object\n",
      "I like to get into discussions about issues                                                                                                               object\n",
      "I like helping people                                                                                                                                     object\n",
      "I am an ambitious person,I set goals for myself                                                                                                           object\n",
      "I like to try to influence or persuade people                                                                                                             object\n",
      "I like selling things                                                                                                                                     object\n",
      "I am quick to take on new responsibilities                                                                                                                object\n",
      "I would like to start my own business                                                                                                                     object\n",
      "I like to lead                                                                                                                                            object\n",
      "I like to give speeches                                                                                                                                   object\n",
      "I like to organize things,(files, desks/offices)                                                                                                          object\n",
      "I like to have clear instructions to follow                                                                                                               object\n",
      "I wouldn’t mind working 8 hours per day in an office                                                                                                      object\n",
      "I pay attention to details                                                                                                                                object\n",
      "I like to do filing or typing                                                                                                                             object\n",
      "I am good at keeping records of my work                                                                                                                   object\n",
      "I would like to work in an office                                                                                                                         object\n",
      "R                                                                                                                                                          int64\n",
      "I                                                                                                                                                          int64\n",
      "A                                                                                                                                                          int64\n",
      "S                                                                                                                                                          int64\n",
      "E                                                                                                                                                          int64\n",
      "C                                                                                                                                                          int64\n",
      "class                                                                                                                                                     object\n",
      "dtype: object\n",
      "\n",
      "\n",
      "<class 'pandas.core.frame.DataFrame'>\n",
      "RangeIndex: 140 entries, 0 to 139\n",
      "Data columns (total 57 columns):\n",
      " #   Column                                                                                                                                                  Non-Null Count  Dtype \n",
      "---  ------                                                                                                                                                  --------------  ----- \n",
      " 0   Sr. No                                                                                                                                                  140 non-null    int64 \n",
      " 1   Timestamp                                                                                                                                               140 non-null    object\n",
      " 2   Email address                                                                                                                                           140 non-null    object\n",
      " 3   Your Name                                                                                                                                               140 non-null    object\n",
      " 4   City                                                                                                                                                    140 non-null    object\n",
      " 5   Current Qualification (please be specific here) For eg : (B.Com, B.Sc C.S, B.Tech)                                                                      140 non-null    object\n",
      " 6   In which field would you like to pursue your career in the future?                                                                                      137 non-null    object\n",
      " 7   I understand and agree that the information provided above is correct and I'm willing to do career guidance and counselling session for me / my child.  140 non-null    object\n",
      " 8   I like to work on cars                                                                                                                                  140 non-null    object\n",
      " 9   I like to build things                                                                                                                                  140 non-null    object\n",
      " 10  I like to take care of animals                                                                                                                          140 non-null    object\n",
      " 11  I like putting things together or assembling things                                                                                                     140 non-null    object\n",
      " 12  I like to cook                                                                                                                                          140 non-null    object\n",
      " 13  I am a practical person                                                                                                                                 140 non-null    object\n",
      " 14  I like working outdoors                                                                                                                                 140 non-null    object\n",
      " 15  I like to do puzzles                                                                                                                                    140 non-null    object\n",
      " 16  I like to do experiments                                                                                                                                140 non-null    object\n",
      " 17  I enjoy science                                                                                                                                         140 non-null    object\n",
      " 18  I enjoy trying to figure out how things work                                                                                                            140 non-null    object\n",
      " 19  I like to analyze things (problems/situations)                                                                                                          140 non-null    object\n",
      " 20  I like working with numbers or charts                                                                                                                   140 non-null    object\n",
      " 21  I’m good at math                                                                                                                                        140 non-null    object\n",
      " 22  I am good at working independently                                                                                                                      140 non-null    object\n",
      " 23  I like to read about art and music                                                                                                                      140 non-null    object\n",
      " 24  I enjoy creative writing                                                                                                                                140 non-null    object\n",
      " 25  I am a creative person                                                                                                                                  140 non-null    object\n",
      " 26  I like to play instruments or sing                                                                                                                      140 non-null    object\n",
      " 27  I like acting in plays                                                                                                                                  140 non-null    object\n",
      " 28  I like to draw                                                                                                                                          140 non-null    object\n",
      " 29  I like to work in teams                                                                                                                                 140 non-null    object\n",
      " 30  I like to teach or train people                                                                                                                         140 non-null    object\n",
      " 31  I like trying to help people solve their problems                                                                                                       140 non-null    object\n",
      " 32  I am interested in healing people                                                                                                                       140 non-null    object\n",
      " 33  I enjoy learning about other cultures                                                                                                                   140 non-null    object\n",
      " 34  I like to get into discussions about issues                                                                                                             140 non-null    object\n",
      " 35  I like helping people                                                                                                                                   140 non-null    object\n",
      " 36  I am an ambitious person,I set goals for myself                                                                                                         140 non-null    object\n",
      " 37  I like to try to influence or persuade people                                                                                                           140 non-null    object\n",
      " 38  I like selling things                                                                                                                                   140 non-null    object\n",
      " 39  I am quick to take on new responsibilities                                                                                                              140 non-null    object\n",
      " 40  I would like to start my own business                                                                                                                   140 non-null    object\n",
      " 41  I like to lead                                                                                                                                          140 non-null    object\n",
      " 42  I like to give speeches                                                                                                                                 140 non-null    object\n",
      " 43  I like to organize things,(files, desks/offices)                                                                                                        140 non-null    object\n",
      " 44  I like to have clear instructions to follow                                                                                                             140 non-null    object\n",
      " 45  I wouldn’t mind working 8 hours per day in an office                                                                                                    140 non-null    object\n",
      " 46  I pay attention to details                                                                                                                              140 non-null    object\n",
      " 47  I like to do filing or typing                                                                                                                           140 non-null    object\n",
      " 48  I am good at keeping records of my work                                                                                                                 140 non-null    object\n",
      " 49  I would like to work in an office                                                                                                                       140 non-null    object\n",
      " 50  R                                                                                                                                                       140 non-null    int64 \n",
      " 51  I                                                                                                                                                       140 non-null    int64 \n",
      " 52  A                                                                                                                                                       140 non-null    int64 \n",
      " 53  S                                                                                                                                                       140 non-null    int64 \n",
      " 54  E                                                                                                                                                       140 non-null    int64 \n",
      " 55  C                                                                                                                                                       140 non-null    int64 \n",
      " 56  class                                                                                                                                                   140 non-null    object\n",
      "dtypes: int64(7), object(50)\n",
      "memory usage: 62.5+ KB\n",
      "Here is the brief summary of my dataset None\n",
      "\n",
      "\n",
      "My dataset have the following number of following attributes Sr. No                                                                                                                                                    140\n",
      "Timestamp                                                                                                                                                 127\n",
      "Email address                                                                                                                                             118\n",
      "Your Name                                                                                                                                                 127\n",
      "City                                                                                                                                                       32\n",
      "Current Qualification (please be specific here) For eg : (B.Com, B.Sc C.S, B.Tech)                                                                        103\n",
      "In which field would you like to pursue your career in the future?                                                                                        106\n",
      "I understand and agree that the information provided above is correct and I'm willing to do career guidance and counselling session for me / my child.      1\n",
      "I like to work on cars                                                                                                                                      2\n",
      "I like to build things                                                                                                                                      2\n",
      "I like to take care of animals                                                                                                                              2\n",
      "I like putting things together or assembling things                                                                                                         2\n",
      "I like to cook                                                                                                                                              2\n",
      "I am a practical person                                                                                                                                     2\n",
      "I like working outdoors                                                                                                                                     2\n",
      "I like to do puzzles                                                                                                                                        2\n",
      "I like to do experiments                                                                                                                                    2\n",
      "I enjoy science                                                                                                                                             2\n",
      "I enjoy trying to figure out how things work                                                                                                                2\n",
      "I like to analyze things (problems/situations)                                                                                                              2\n",
      "I like working with numbers or charts                                                                                                                       2\n",
      "I’m good at math                                                                                                                                            2\n",
      "I am good at working independently                                                                                                                          2\n",
      "I like to read about art and music                                                                                                                          2\n",
      "I enjoy creative writing                                                                                                                                    2\n",
      "I am a creative person                                                                                                                                      2\n",
      "I like to play instruments or sing                                                                                                                          2\n",
      "I like acting in plays                                                                                                                                      2\n",
      "I like to draw                                                                                                                                              2\n",
      "I like to work in teams                                                                                                                                     2\n",
      "I like to teach or train people                                                                                                                             2\n",
      "I like trying to help people solve their problems                                                                                                           2\n",
      "I am interested in healing people                                                                                                                           2\n",
      "I enjoy learning about other cultures                                                                                                                       2\n",
      "I like to get into discussions about issues                                                                                                                 2\n",
      "I like helping people                                                                                                                                       2\n",
      "I am an ambitious person,I set goals for myself                                                                                                             2\n",
      "I like to try to influence or persuade people                                                                                                               2\n",
      "I like selling things                                                                                                                                       2\n",
      "I am quick to take on new responsibilities                                                                                                                  2\n",
      "I would like to start my own business                                                                                                                       2\n",
      "I like to lead                                                                                                                                              2\n",
      "I like to give speeches                                                                                                                                     2\n",
      "I like to organize things,(files, desks/offices)                                                                                                            2\n",
      "I like to have clear instructions to follow                                                                                                                 2\n",
      "I wouldn’t mind working 8 hours per day in an office                                                                                                        2\n",
      "I pay attention to details                                                                                                                                  2\n",
      "I like to do filing or typing                                                                                                                               2\n",
      "I am good at keeping records of my work                                                                                                                     2\n",
      "I would like to work in an office                                                                                                                           2\n",
      "R                                                                                                                                                           7\n",
      "I                                                                                                                                                           7\n",
      "A                                                                                                                                                           8\n",
      "S                                                                                                                                                           7\n",
      "E                                                                                                                                                           7\n",
      "C                                                                                                                                                           8\n",
      "class                                                                                                                                                       7\n",
      "dtype: int64\n",
      "\n",
      "\n",
      "My dataset have the following missing values Sr. No                                                                                                                                                    0\n",
      "Timestamp                                                                                                                                                 0\n",
      "Email address                                                                                                                                             0\n",
      "Your Name                                                                                                                                                 0\n",
      "City                                                                                                                                                      0\n",
      "Current Qualification (please be specific here) For eg : (B.Com, B.Sc C.S, B.Tech)                                                                        0\n",
      "In which field would you like to pursue your career in the future?                                                                                        3\n",
      "I understand and agree that the information provided above is correct and I'm willing to do career guidance and counselling session for me / my child.    0\n",
      "I like to work on cars                                                                                                                                    0\n",
      "I like to build things                                                                                                                                    0\n",
      "I like to take care of animals                                                                                                                            0\n",
      "I like putting things together or assembling things                                                                                                       0\n",
      "I like to cook                                                                                                                                            0\n",
      "I am a practical person                                                                                                                                   0\n",
      "I like working outdoors                                                                                                                                   0\n",
      "I like to do puzzles                                                                                                                                      0\n",
      "I like to do experiments                                                                                                                                  0\n",
      "I enjoy science                                                                                                                                           0\n",
      "I enjoy trying to figure out how things work                                                                                                              0\n",
      "I like to analyze things (problems/situations)                                                                                                            0\n",
      "I like working with numbers or charts                                                                                                                     0\n",
      "I’m good at math                                                                                                                                          0\n",
      "I am good at working independently                                                                                                                        0\n",
      "I like to read about art and music                                                                                                                        0\n",
      "I enjoy creative writing                                                                                                                                  0\n",
      "I am a creative person                                                                                                                                    0\n",
      "I like to play instruments or sing                                                                                                                        0\n",
      "I like acting in plays                                                                                                                                    0\n",
      "I like to draw                                                                                                                                            0\n",
      "I like to work in teams                                                                                                                                   0\n",
      "I like to teach or train people                                                                                                                           0\n",
      "I like trying to help people solve their problems                                                                                                         0\n",
      "I am interested in healing people                                                                                                                         0\n",
      "I enjoy learning about other cultures                                                                                                                     0\n",
      "I like to get into discussions about issues                                                                                                               0\n",
      "I like helping people                                                                                                                                     0\n",
      "I am an ambitious person,I set goals for myself                                                                                                           0\n",
      "I like to try to influence or persuade people                                                                                                             0\n",
      "I like selling things                                                                                                                                     0\n",
      "I am quick to take on new responsibilities                                                                                                                0\n",
      "I would like to start my own business                                                                                                                     0\n",
      "I like to lead                                                                                                                                            0\n",
      "I like to give speeches                                                                                                                                   0\n",
      "I like to organize things,(files, desks/offices)                                                                                                          0\n",
      "I like to have clear instructions to follow                                                                                                               0\n",
      "I wouldn’t mind working 8 hours per day in an office                                                                                                      0\n",
      "I pay attention to details                                                                                                                                0\n",
      "I like to do filing or typing                                                                                                                             0\n",
      "I am good at keeping records of my work                                                                                                                   0\n",
      "I would like to work in an office                                                                                                                         0\n",
      "R                                                                                                                                                         0\n",
      "I                                                                                                                                                         0\n",
      "A                                                                                                                                                         0\n",
      "S                                                                                                                                                         0\n",
      "E                                                                                                                                                         0\n",
      "C                                                                                                                                                         0\n",
      "class                                                                                                                                                     0\n",
      "dtype: int64\n",
      "\n",
      "\n",
      "My dataset have this number of duplicates 0\n"
     ]
    }
   ],
   "source": [
    "information(df)"
   ]
  },
  {
   "cell_type": "code",
   "execution_count": 38,
   "metadata": {
    "scrolled": false
   },
   "outputs": [
    {
     "data": {
      "text/plain": [
       "['S',\n",
       " 'any',\n",
       " 'A',\n",
       " 'I',\n",
       " 'I',\n",
       " 'A',\n",
       " 'R',\n",
       " 'S',\n",
       " 'I',\n",
       " 'S',\n",
       " 'I',\n",
       " 'R',\n",
       " 'R',\n",
       " 'I',\n",
       " 'R',\n",
       " 'C',\n",
       " 'I',\n",
       " 'S',\n",
       " 'R',\n",
       " 'I',\n",
       " 'S',\n",
       " 'S',\n",
       " 'S',\n",
       " 'I',\n",
       " 'R',\n",
       " 'any',\n",
       " 'S',\n",
       " 'S',\n",
       " 'C',\n",
       " 'S',\n",
       " 'R',\n",
       " 'S',\n",
       " 'S',\n",
       " 'R',\n",
       " 'I',\n",
       " 'S',\n",
       " 'R',\n",
       " 'I',\n",
       " 'R',\n",
       " 'R',\n",
       " 'I',\n",
       " 'S',\n",
       " 'S',\n",
       " 'R',\n",
       " 'I',\n",
       " 'S',\n",
       " 'I',\n",
       " 'A',\n",
       " 'S',\n",
       " 'I',\n",
       " 'I',\n",
       " 'I',\n",
       " 'S',\n",
       " 'S',\n",
       " 'R',\n",
       " 'R',\n",
       " 'C',\n",
       " 'R',\n",
       " 'R',\n",
       " 'I',\n",
       " 'I',\n",
       " 'S',\n",
       " 'E',\n",
       " 'A',\n",
       " 'I',\n",
       " 'R',\n",
       " 'S',\n",
       " 'A',\n",
       " 'I',\n",
       " 'S',\n",
       " 'R',\n",
       " 'R',\n",
       " 'R',\n",
       " 'A',\n",
       " 'R',\n",
       " 'R',\n",
       " 'R',\n",
       " 'R',\n",
       " 'I',\n",
       " 'R',\n",
       " 'S',\n",
       " 'S',\n",
       " 'I',\n",
       " 'R',\n",
       " 'E',\n",
       " 'R',\n",
       " 'R',\n",
       " 'R',\n",
       " 'S',\n",
       " 'I',\n",
       " 'S',\n",
       " 'C',\n",
       " 'C',\n",
       " 'C',\n",
       " 'S',\n",
       " 'C',\n",
       " 'E',\n",
       " 'S',\n",
       " 'S',\n",
       " 'S',\n",
       " 'I',\n",
       " 'I',\n",
       " 'R',\n",
       " 'I',\n",
       " 'S',\n",
       " 'A',\n",
       " 'I',\n",
       " 'C',\n",
       " 'S',\n",
       " 'R',\n",
       " 'S',\n",
       " 'S',\n",
       " 'S',\n",
       " 'A',\n",
       " 'I',\n",
       " 'R',\n",
       " 'R',\n",
       " 'C',\n",
       " 'I',\n",
       " 'R',\n",
       " 'I',\n",
       " 'I',\n",
       " 'A',\n",
       " 'C',\n",
       " 'S',\n",
       " 'I',\n",
       " 'S',\n",
       " 'R',\n",
       " 'S',\n",
       " 'I',\n",
       " 'C',\n",
       " 'R',\n",
       " 'S',\n",
       " 'R',\n",
       " 'R',\n",
       " 'A',\n",
       " 'I',\n",
       " 'I',\n",
       " 'S',\n",
       " 'C']"
      ]
     },
     "execution_count": 38,
     "metadata": {},
     "output_type": "execute_result"
    }
   ],
   "source": [
    "df[\"class\"].tolist()"
   ]
  },
  {
   "cell_type": "code",
   "execution_count": 50,
   "metadata": {},
   "outputs": [],
   "source": [
    "df['class'] = pd.Categorical(df['class'])"
   ]
  },
  {
   "cell_type": "code",
   "execution_count": 52,
   "metadata": {},
   "outputs": [],
   "source": [
    "df['code'] = df['class'].cat.codes"
   ]
  },
  {
   "cell_type": "code",
   "execution_count": 53,
   "metadata": {},
   "outputs": [
    {
     "data": {
      "text/html": [
       "<div>\n",
       "<style scoped>\n",
       "    .dataframe tbody tr th:only-of-type {\n",
       "        vertical-align: middle;\n",
       "    }\n",
       "\n",
       "    .dataframe tbody tr th {\n",
       "        vertical-align: top;\n",
       "    }\n",
       "\n",
       "    .dataframe thead th {\n",
       "        text-align: right;\n",
       "    }\n",
       "</style>\n",
       "<table border=\"1\" class=\"dataframe\">\n",
       "  <thead>\n",
       "    <tr style=\"text-align: right;\">\n",
       "      <th></th>\n",
       "      <th>Sr. No</th>\n",
       "      <th>Timestamp</th>\n",
       "      <th>Email address</th>\n",
       "      <th>Your Name</th>\n",
       "      <th>City</th>\n",
       "      <th>Current Qualification (please be specific here) For eg : (B.Com, B.Sc C.S, B.Tech)</th>\n",
       "      <th>In which field would you like to pursue your career in the future?</th>\n",
       "      <th>I understand and agree that the information provided above is correct and I'm willing to do career guidance and counselling session for me / my child.</th>\n",
       "      <th>I like to work on cars</th>\n",
       "      <th>I like to build things</th>\n",
       "      <th>...</th>\n",
       "      <th>I am good at keeping records of my work</th>\n",
       "      <th>I would like to work in an office</th>\n",
       "      <th>R</th>\n",
       "      <th>I</th>\n",
       "      <th>A</th>\n",
       "      <th>S</th>\n",
       "      <th>E</th>\n",
       "      <th>C</th>\n",
       "      <th>class</th>\n",
       "      <th>code</th>\n",
       "    </tr>\n",
       "  </thead>\n",
       "  <tbody>\n",
       "    <tr>\n",
       "      <th>0</th>\n",
       "      <td>7</td>\n",
       "      <td>06-04-2022 12:05</td>\n",
       "      <td>aakash.patel1@gmail.com</td>\n",
       "      <td>Aakash</td>\n",
       "      <td>Ahmedabad</td>\n",
       "      <td>Bachelor of engineering</td>\n",
       "      <td>Big data</td>\n",
       "      <td>I agree</td>\n",
       "      <td>yes</td>\n",
       "      <td>yes</td>\n",
       "      <td>...</td>\n",
       "      <td>no</td>\n",
       "      <td>yes</td>\n",
       "      <td>5</td>\n",
       "      <td>5</td>\n",
       "      <td>3</td>\n",
       "      <td>6</td>\n",
       "      <td>3</td>\n",
       "      <td>4</td>\n",
       "      <td>S</td>\n",
       "      <td>5</td>\n",
       "    </tr>\n",
       "    <tr>\n",
       "      <th>1</th>\n",
       "      <td>111</td>\n",
       "      <td>20-04-2022 12:10</td>\n",
       "      <td>ystwuw@gmail.com</td>\n",
       "      <td>Yash patel</td>\n",
       "      <td>Ahmedabad</td>\n",
       "      <td>b.tech</td>\n",
       "      <td>M.tech</td>\n",
       "      <td>I agree</td>\n",
       "      <td>yes</td>\n",
       "      <td>yes</td>\n",
       "      <td>...</td>\n",
       "      <td>yes</td>\n",
       "      <td>yes</td>\n",
       "      <td>7</td>\n",
       "      <td>7</td>\n",
       "      <td>7</td>\n",
       "      <td>7</td>\n",
       "      <td>7</td>\n",
       "      <td>7</td>\n",
       "      <td>any</td>\n",
       "      <td>6</td>\n",
       "    </tr>\n",
       "    <tr>\n",
       "      <th>2</th>\n",
       "      <td>13</td>\n",
       "      <td>06-04-2022 14:02</td>\n",
       "      <td>satwiknakhate2000@gmail.com</td>\n",
       "      <td>Satwik</td>\n",
       "      <td>Ambajogai</td>\n",
       "      <td>Btech</td>\n",
       "      <td>Computer science</td>\n",
       "      <td>I agree</td>\n",
       "      <td>no</td>\n",
       "      <td>no</td>\n",
       "      <td>...</td>\n",
       "      <td>no</td>\n",
       "      <td>no</td>\n",
       "      <td>1</td>\n",
       "      <td>4</td>\n",
       "      <td>7</td>\n",
       "      <td>4</td>\n",
       "      <td>2</td>\n",
       "      <td>0</td>\n",
       "      <td>A</td>\n",
       "      <td>0</td>\n",
       "    </tr>\n",
       "    <tr>\n",
       "      <th>3</th>\n",
       "      <td>80</td>\n",
       "      <td>15-04-2022 22:54</td>\n",
       "      <td>siddhant.dixit212@gmail.com</td>\n",
       "      <td>Avinash Kale</td>\n",
       "      <td>Ambajogai</td>\n",
       "      <td>MBBS</td>\n",
       "      <td>Doctor</td>\n",
       "      <td>I agree</td>\n",
       "      <td>no</td>\n",
       "      <td>no</td>\n",
       "      <td>...</td>\n",
       "      <td>yes</td>\n",
       "      <td>no</td>\n",
       "      <td>4</td>\n",
       "      <td>5</td>\n",
       "      <td>1</td>\n",
       "      <td>4</td>\n",
       "      <td>1</td>\n",
       "      <td>5</td>\n",
       "      <td>I</td>\n",
       "      <td>3</td>\n",
       "    </tr>\n",
       "    <tr>\n",
       "      <th>4</th>\n",
       "      <td>81</td>\n",
       "      <td>15-04-2022 22:57</td>\n",
       "      <td>siddhant.dixit212@gmail.com</td>\n",
       "      <td>Soham Yadav</td>\n",
       "      <td>Ambajogai</td>\n",
       "      <td>B.tech</td>\n",
       "      <td>Software Engineer</td>\n",
       "      <td>I agree</td>\n",
       "      <td>no</td>\n",
       "      <td>no</td>\n",
       "      <td>...</td>\n",
       "      <td>no</td>\n",
       "      <td>yes</td>\n",
       "      <td>1</td>\n",
       "      <td>6</td>\n",
       "      <td>1</td>\n",
       "      <td>6</td>\n",
       "      <td>4</td>\n",
       "      <td>6</td>\n",
       "      <td>I</td>\n",
       "      <td>3</td>\n",
       "    </tr>\n",
       "  </tbody>\n",
       "</table>\n",
       "<p>5 rows × 58 columns</p>\n",
       "</div>"
      ],
      "text/plain": [
       "   Sr. No         Timestamp                Email address     Your Name  \\\n",
       "0       7  06-04-2022 12:05      aakash.patel1@gmail.com       Aakash    \n",
       "1     111  20-04-2022 12:10             ystwuw@gmail.com    Yash patel   \n",
       "2      13  06-04-2022 14:02  satwiknakhate2000@gmail.com        Satwik   \n",
       "3      80  15-04-2022 22:54  siddhant.dixit212@gmail.com  Avinash Kale   \n",
       "4      81  15-04-2022 22:57  siddhant.dixit212@gmail.com   Soham Yadav   \n",
       "\n",
       "        City  \\\n",
       "0  Ahmedabad   \n",
       "1  Ahmedabad   \n",
       "2  Ambajogai   \n",
       "3  Ambajogai   \n",
       "4  Ambajogai   \n",
       "\n",
       "  Current Qualification (please be specific here) For eg : (B.Com, B.Sc C.S, B.Tech)  \\\n",
       "0                            Bachelor of engineering                                   \n",
       "1                                             b.tech                                   \n",
       "2                                             Btech                                    \n",
       "3                                               MBBS                                   \n",
       "4                                             B.tech                                   \n",
       "\n",
       "  In which field would you like to pursue your career in the future?  \\\n",
       "0                                           Big data                   \n",
       "1                                             M.tech                   \n",
       "2                                  Computer science                    \n",
       "3                                             Doctor                   \n",
       "4                                  Software Engineer                   \n",
       "\n",
       "  I understand and agree that the information provided above is correct and I'm willing to do career guidance and counselling session for me / my child.  \\\n",
       "0                                            I agree                                                                                                       \n",
       "1                                            I agree                                                                                                       \n",
       "2                                            I agree                                                                                                       \n",
       "3                                            I agree                                                                                                       \n",
       "4                                            I agree                                                                                                       \n",
       "\n",
       "  I like to work on cars I like to build things  ...  \\\n",
       "0                    yes                    yes  ...   \n",
       "1                    yes                    yes  ...   \n",
       "2                     no                     no  ...   \n",
       "3                     no                     no  ...   \n",
       "4                     no                     no  ...   \n",
       "\n",
       "  I am good at keeping records of my work I would like to work in an office  \\\n",
       "0                                      no                               yes   \n",
       "1                                     yes                               yes   \n",
       "2                                      no                                no   \n",
       "3                                     yes                                no   \n",
       "4                                      no                               yes   \n",
       "\n",
       "   R  I  A  S  E  C class code  \n",
       "0  5  5  3  6  3  4     S    5  \n",
       "1  7  7  7  7  7  7   any    6  \n",
       "2  1  4  7  4  2  0     A    0  \n",
       "3  4  5  1  4  1  5     I    3  \n",
       "4  1  6  1  6  4  6     I    3  \n",
       "\n",
       "[5 rows x 58 columns]"
      ]
     },
     "execution_count": 53,
     "metadata": {},
     "output_type": "execute_result"
    }
   ],
   "source": [
    "df.head()"
   ]
  },
  {
   "cell_type": "code",
   "execution_count": 54,
   "metadata": {},
   "outputs": [],
   "source": [
    "X = df[['R', 'I', 'A', 'S', 'E', 'C']]"
   ]
  },
  {
   "cell_type": "code",
   "execution_count": 55,
   "metadata": {},
   "outputs": [],
   "source": [
    "Y = df[['code']]"
   ]
  },
  {
   "cell_type": "code",
   "execution_count": 56,
   "metadata": {},
   "outputs": [],
   "source": [
    "from sklearn.model_selection import train_test_split"
   ]
  },
  {
   "cell_type": "code",
   "execution_count": 57,
   "metadata": {},
   "outputs": [],
   "source": [
    "X_train, X_test, y_train, y_test = train_test_split(X, Y, test_size=0.2, random_state=42)"
   ]
  },
  {
   "cell_type": "code",
   "execution_count": 58,
   "metadata": {
    "scrolled": true
   },
   "outputs": [
    {
     "data": {
      "text/plain": [
       "<seaborn.axisgrid.PairGrid at 0x7f3e3a53f760>"
      ]
     },
     "execution_count": 58,
     "metadata": {},
     "output_type": "execute_result"
    },
    {
     "data": {
      "image/png": "[encoded data removed]",
      "text/plain": [
       "<Figure size 1500x1500 with 42 Axes>"
      ]
     },
     "metadata": {},
     "output_type": "display_data"
    }
   ],
   "source": [
    "sns.pairplot(X)"
   ]
  },
  {
   "cell_type": "code",
   "execution_count": 59,
   "metadata": {},
   "outputs": [],
   "source": [
    "from sklearn.linear_model import LinearRegression\n",
    "from sklearn.neighbors import KNeighborsRegressor\n",
    "from sklearn.tree import DecisionTreeRegressor\n",
    "from sklearn.svm import SVR\n",
    "from sklearn.ensemble import RandomForestRegressor\n",
    "from sklearn import linear_model"
   ]
  },
  {
   "cell_type": "markdown",
   "metadata": {},
   "source": [
    "**Linear Regressor**"
   ]
  },
  {
   "cell_type": "code",
   "execution_count": 60,
   "metadata": {},
   "outputs": [],
   "source": [
    "#Linear Regressor\n",
    "lin_reg=LinearRegression()"
   ]
  },
  {
   "cell_type": "code",
   "execution_count": 61,
   "metadata": {},
   "outputs": [
    {
     "data": {
      "text/html": [
       "<style>#sk-container-id-1 {color: black;background-color: white;}#sk-container-id-1 pre{padding: 0;}#sk-container-id-1 div.sk-toggleable {background-color: white;}#sk-container-id-1 label.sk-toggleable__label {cursor: pointer;display: block;width: 100%;margin-bottom: 0;padding: 0.3em;box-sizing: border-box;text-align: center;}#sk-container-id-1 label.sk-toggleable__label-arrow:before {content: \"▸\";float: left;margin-right: 0.25em;color: #696969;}#sk-container-id-1 label.sk-toggleable__label-arrow:hover:before {color: black;}#sk-container-id-1 div.sk-estimator:hover label.sk-toggleable__label-arrow:before {color: black;}#sk-container-id-1 div.sk-toggleable__content {max-height: 0;max-width: 0;overflow: hidden;text-align: left;background-color: #f0f8ff;}#sk-container-id-1 div.sk-toggleable__content pre {margin: 0.2em;color: black;border-radius: 0.25em;background-color: #f0f8ff;}#sk-container-id-1 input.sk-toggleable__control:checked~div.sk-toggleable__content {max-height: 200px;max-width: 100%;overflow: auto;}#sk-container-id-1 input.sk-toggleable__control:checked~label.sk-toggleable__label-arrow:before {content: \"▾\";}#sk-container-id-1 div.sk-estimator input.sk-toggleable__control:checked~label.sk-toggleable__label {background-color: #d4ebff;}#sk-container-id-1 div.sk-label input.sk-toggleable__control:checked~label.sk-toggleable__label {background-color: #d4ebff;}#sk-container-id-1 input.sk-hidden--visually {border: 0;clip: rect(1px 1px 1px 1px);clip: rect(1px, 1px, 1px, 1px);height: 1px;margin: -1px;overflow: hidden;padding: 0;position: absolute;width: 1px;}#sk-container-id-1 div.sk-estimator {font-family: monospace;background-color: #f0f8ff;border: 1px dotted black;border-radius: 0.25em;box-sizing: border-box;margin-bottom: 0.5em;}#sk-container-id-1 div.sk-estimator:hover {background-color: #d4ebff;}#sk-container-id-1 div.sk-parallel-item::after {content: \"\";width: 100%;border-bottom: 1px solid gray;flex-grow: 1;}#sk-container-id-1 div.sk-label:hover label.sk-toggleable__label {background-color: #d4ebff;}#sk-container-id-1 div.sk-serial::before {content: \"\";position: absolute;border-left: 1px solid gray;box-sizing: border-box;top: 0;bottom: 0;left: 50%;z-index: 0;}#sk-container-id-1 div.sk-serial {display: flex;flex-direction: column;align-items: center;background-color: white;padding-right: 0.2em;padding-left: 0.2em;position: relative;}#sk-container-id-1 div.sk-item {position: relative;z-index: 1;}#sk-container-id-1 div.sk-parallel {display: flex;align-items: stretch;justify-content: center;background-color: white;position: relative;}#sk-container-id-1 div.sk-item::before, #sk-container-id-1 div.sk-parallel-item::before {content: \"\";position: absolute;border-left: 1px solid gray;box-sizing: border-box;top: 0;bottom: 0;left: 50%;z-index: -1;}#sk-container-id-1 div.sk-parallel-item {display: flex;flex-direction: column;z-index: 1;position: relative;background-color: white;}#sk-container-id-1 div.sk-parallel-item:first-child::after {align-self: flex-end;width: 50%;}#sk-container-id-1 div.sk-parallel-item:last-child::after {align-self: flex-start;width: 50%;}#sk-container-id-1 div.sk-parallel-item:only-child::after {width: 0;}#sk-container-id-1 div.sk-dashed-wrapped {border: 1px dashed gray;margin: 0 0.4em 0.5em 0.4em;box-sizing: border-box;padding-bottom: 0.4em;background-color: white;}#sk-container-id-1 div.sk-label label {font-family: monospace;font-weight: bold;display: inline-block;line-height: 1.2em;}#sk-container-id-1 div.sk-label-container {text-align: center;}#sk-container-id-1 div.sk-container {/* jupyter's `normalize.less` sets `[hidden] { display: none; }` but bootstrap.min.css set `[hidden] { display: none !important; }` so we also need the `!important` here to be able to override the default hidden behavior on the sphinx rendered scikit-learn.org. See: https://github.com/scikit-learn/scikit-learn/issues/21755 */display: inline-block !important;position: relative;}#sk-container-id-1 div.sk-text-repr-fallback {display: none;}</style><div id=\"sk-container-id-1\" class=\"sk-top-container\"><div class=\"sk-text-repr-fallback\"><pre>LinearRegression()</pre><b>In a Jupyter environment, please rerun this cell to show the HTML representation or trust the notebook. <br />On GitHub, the HTML representation is unable to render, please try loading this page with nbviewer.org.</b></div><div class=\"sk-container\" hidden><div class=\"sk-item\"><div class=\"sk-estimator sk-toggleable\"><input class=\"sk-toggleable__control sk-hidden--visually\" id=\"sk-estimator-id-1\" type=\"checkbox\" checked><label for=\"sk-estimator-id-1\" class=\"sk-toggleable__label sk-toggleable__label-arrow\">LinearRegression</label><div class=\"sk-toggleable__content\"><pre>LinearRegression()</pre></div></div></div></div></div>"
      ],
      "text/plain": [
       "LinearRegression()"
      ]
     },
     "execution_count": 61,
     "metadata": {},
     "output_type": "execute_result"
    }
   ],
   "source": [
    "#train the algorithm\n",
    "lin_reg.fit(X_train, y_train)"
   ]
  },
  {
   "cell_type": "code",
   "execution_count": 62,
   "metadata": {},
   "outputs": [
    {
     "name": "stdout",
     "output_type": "stream",
     "text": [
      "[[ 0.27795591 -0.08786558 -0.10591094  0.29088176  0.07973741 -0.14744481]]\n",
      "[1.62388395]\n"
     ]
    }
   ],
   "source": [
    "#linear regressor best_of_fit\n",
    "print(lin_reg.coef_)\n",
    "print(lin_reg.intercept_)"
   ]
  },
  {
   "cell_type": "code",
   "execution_count": 63,
   "metadata": {},
   "outputs": [],
   "source": [
    "linreg_predicted_y= lin_reg.predict(X_test)"
   ]
  },
  {
   "cell_type": "code",
   "execution_count": 64,
   "metadata": {},
   "outputs": [
    {
     "data": {
      "text/plain": [
       "0.2001847669783413"
      ]
     },
     "execution_count": 64,
     "metadata": {},
     "output_type": "execute_result"
    }
   ],
   "source": [
    "lin_reg.score(X_train, y_train)"
   ]
  },
  {
   "cell_type": "code",
   "execution_count": 65,
   "metadata": {},
   "outputs": [],
   "source": [
    "from sklearn.metrics import r2_score, mean_absolute_error, mean_squared_error"
   ]
  },
  {
   "cell_type": "code",
   "execution_count": 66,
   "metadata": {},
   "outputs": [
    {
     "data": {
      "text/plain": [
       "-0.06188608394269246"
      ]
     },
     "execution_count": 66,
     "metadata": {},
     "output_type": "execute_result"
    }
   ],
   "source": [
    "r2_score(y_test, linreg_predicted_y)"
   ]
  },
  {
   "cell_type": "code",
   "execution_count": 67,
   "metadata": {},
   "outputs": [
    {
     "data": {
      "text/plain": [
       "1.1567572393133436"
      ]
     },
     "execution_count": 67,
     "metadata": {},
     "output_type": "execute_result"
    }
   ],
   "source": [
    "mean_absolute_error(y_test, linreg_predicted_y)"
   ]
  },
  {
   "cell_type": "code",
   "execution_count": 68,
   "metadata": {},
   "outputs": [
    {
     "data": {
      "text/plain": [
       "2.3025591105900216"
      ]
     },
     "execution_count": 68,
     "metadata": {},
     "output_type": "execute_result"
    }
   ],
   "source": [
    "mean_squared_error(y_test, linreg_predicted_y)"
   ]
  },
  {
   "cell_type": "markdown",
   "metadata": {},
   "source": [
    "**Lasso Regressor**"
   ]
  },
  {
   "cell_type": "code",
   "execution_count": 69,
   "metadata": {},
   "outputs": [],
   "source": [
    "lassoReg = linear_model.Lasso(alpha=0.1)"
   ]
  },
  {
   "cell_type": "code",
   "execution_count": 70,
   "metadata": {},
   "outputs": [
    {
     "data": {
      "text/html": [
       "<style>#sk-container-id-2 {color: black;background-color: white;}#sk-container-id-2 pre{padding: 0;}#sk-container-id-2 div.sk-toggleable {background-color: white;}#sk-container-id-2 label.sk-toggleable__label {cursor: pointer;display: block;width: 100%;margin-bottom: 0;padding: 0.3em;box-sizing: border-box;text-align: center;}#sk-container-id-2 label.sk-toggleable__label-arrow:before {content: \"▸\";float: left;margin-right: 0.25em;color: #696969;}#sk-container-id-2 label.sk-toggleable__label-arrow:hover:before {color: black;}#sk-container-id-2 div.sk-estimator:hover label.sk-toggleable__label-arrow:before {color: black;}#sk-container-id-2 div.sk-toggleable__content {max-height: 0;max-width: 0;overflow: hidden;text-align: left;background-color: #f0f8ff;}#sk-container-id-2 div.sk-toggleable__content pre {margin: 0.2em;color: black;border-radius: 0.25em;background-color: #f0f8ff;}#sk-container-id-2 input.sk-toggleable__control:checked~div.sk-toggleable__content {max-height: 200px;max-width: 100%;overflow: auto;}#sk-container-id-2 input.sk-toggleable__control:checked~label.sk-toggleable__label-arrow:before {content: \"▾\";}#sk-container-id-2 div.sk-estimator input.sk-toggleable__control:checked~label.sk-toggleable__label {background-color: #d4ebff;}#sk-container-id-2 div.sk-label input.sk-toggleable__control:checked~label.sk-toggleable__label {background-color: #d4ebff;}#sk-container-id-2 input.sk-hidden--visually {border: 0;clip: rect(1px 1px 1px 1px);clip: rect(1px, 1px, 1px, 1px);height: 1px;margin: -1px;overflow: hidden;padding: 0;position: absolute;width: 1px;}#sk-container-id-2 div.sk-estimator {font-family: monospace;background-color: #f0f8ff;border: 1px dotted black;border-radius: 0.25em;box-sizing: border-box;margin-bottom: 0.5em;}#sk-container-id-2 div.sk-estimator:hover {background-color: #d4ebff;}#sk-container-id-2 div.sk-parallel-item::after {content: \"\";width: 100%;border-bottom: 1px solid gray;flex-grow: 1;}#sk-container-id-2 div.sk-label:hover label.sk-toggleable__label {background-color: #d4ebff;}#sk-container-id-2 div.sk-serial::before {content: \"\";position: absolute;border-left: 1px solid gray;box-sizing: border-box;top: 0;bottom: 0;left: 50%;z-index: 0;}#sk-container-id-2 div.sk-serial {display: flex;flex-direction: column;align-items: center;background-color: white;padding-right: 0.2em;padding-left: 0.2em;position: relative;}#sk-container-id-2 div.sk-item {position: relative;z-index: 1;}#sk-container-id-2 div.sk-parallel {display: flex;align-items: stretch;justify-content: center;background-color: white;position: relative;}#sk-container-id-2 div.sk-item::before, #sk-container-id-2 div.sk-parallel-item::before {content: \"\";position: absolute;border-left: 1px solid gray;box-sizing: border-box;top: 0;bottom: 0;left: 50%;z-index: -1;}#sk-container-id-2 div.sk-parallel-item {display: flex;flex-direction: column;z-index: 1;position: relative;background-color: white;}#sk-container-id-2 div.sk-parallel-item:first-child::after {align-self: flex-end;width: 50%;}#sk-container-id-2 div.sk-parallel-item:last-child::after {align-self: flex-start;width: 50%;}#sk-container-id-2 div.sk-parallel-item:only-child::after {width: 0;}#sk-container-id-2 div.sk-dashed-wrapped {border: 1px dashed gray;margin: 0 0.4em 0.5em 0.4em;box-sizing: border-box;padding-bottom: 0.4em;background-color: white;}#sk-container-id-2 div.sk-label label {font-family: monospace;font-weight: bold;display: inline-block;line-height: 1.2em;}#sk-container-id-2 div.sk-label-container {text-align: center;}#sk-container-id-2 div.sk-container {/* jupyter's `normalize.less` sets `[hidden] { display: none; }` but bootstrap.min.css set `[hidden] { display: none !important; }` so we also need the `!important` here to be able to override the default hidden behavior on the sphinx rendered scikit-learn.org. See: https://github.com/scikit-learn/scikit-learn/issues/21755 */display: inline-block !important;position: relative;}#sk-container-id-2 div.sk-text-repr-fallback {display: none;}</style><div id=\"sk-container-id-2\" class=\"sk-top-container\"><div class=\"sk-text-repr-fallback\"><pre>Lasso(alpha=0.1)</pre><b>In a Jupyter environment, please rerun this cell to show the HTML representation or trust the notebook. <br />On GitHub, the HTML representation is unable to render, please try loading this page with nbviewer.org.</b></div><div class=\"sk-container\" hidden><div class=\"sk-item\"><div class=\"sk-estimator sk-toggleable\"><input class=\"sk-toggleable__control sk-hidden--visually\" id=\"sk-estimator-id-2\" type=\"checkbox\" checked><label for=\"sk-estimator-id-2\" class=\"sk-toggleable__label sk-toggleable__label-arrow\">Lasso</label><div class=\"sk-toggleable__content\"><pre>Lasso(alpha=0.1)</pre></div></div></div></div></div>"
      ],
      "text/plain": [
       "Lasso(alpha=0.1)"
      ]
     },
     "execution_count": 70,
     "metadata": {},
     "output_type": "execute_result"
    }
   ],
   "source": [
    "lassoReg.fit(X_train,y_train)"
   ]
  },
  {
   "cell_type": "code",
   "execution_count": 71,
   "metadata": {},
   "outputs": [
    {
     "data": {
      "text/plain": [
       "0.18593076532653463"
      ]
     },
     "execution_count": 71,
     "metadata": {},
     "output_type": "execute_result"
    }
   ],
   "source": [
    "lassoReg.score(X_train, y_train)"
   ]
  },
  {
   "cell_type": "code",
   "execution_count": 72,
   "metadata": {},
   "outputs": [],
   "source": [
    "lasso_predicted_y= lassoReg.predict(X_test)"
   ]
  },
  {
   "cell_type": "code",
   "execution_count": 73,
   "metadata": {},
   "outputs": [
    {
     "data": {
      "text/plain": [
       "-0.053130258039501665"
      ]
     },
     "execution_count": 73,
     "metadata": {},
     "output_type": "execute_result"
    }
   ],
   "source": [
    "r2_score(y_test, lasso_predicted_y)"
   ]
  },
  {
   "cell_type": "code",
   "execution_count": 74,
   "metadata": {},
   "outputs": [
    {
     "data": {
      "text/plain": [
       "1.1547606504773646"
      ]
     },
     "execution_count": 74,
     "metadata": {},
     "output_type": "execute_result"
    }
   ],
   "source": [
    "mean_absolute_error(y_test, lasso_predicted_y)"
   ]
  },
  {
   "cell_type": "code",
   "execution_count": 75,
   "metadata": {},
   "outputs": [
    {
     "data": {
      "text/plain": [
       "2.2835732636060624"
      ]
     },
     "execution_count": 75,
     "metadata": {},
     "output_type": "execute_result"
    }
   ],
   "source": [
    "mean_squared_error(y_test, lasso_predicted_y)"
   ]
  },
  {
   "cell_type": "markdown",
   "metadata": {},
   "source": [
    "**Random Forest Regressor**"
   ]
  },
  {
   "cell_type": "code",
   "execution_count": 76,
   "metadata": {},
   "outputs": [],
   "source": [
    "rf_reg= RandomForestRegressor()"
   ]
  },
  {
   "cell_type": "code",
   "execution_count": 77,
   "metadata": {},
   "outputs": [
    {
     "data": {
      "text/html": [
       "<style>#sk-container-id-3 {color: black;background-color: white;}#sk-container-id-3 pre{padding: 0;}#sk-container-id-3 div.sk-toggleable {background-color: white;}#sk-container-id-3 label.sk-toggleable__label {cursor: pointer;display: block;width: 100%;margin-bottom: 0;padding: 0.3em;box-sizing: border-box;text-align: center;}#sk-container-id-3 label.sk-toggleable__label-arrow:before {content: \"▸\";float: left;margin-right: 0.25em;color: #696969;}#sk-container-id-3 label.sk-toggleable__label-arrow:hover:before {color: black;}#sk-container-id-3 div.sk-estimator:hover label.sk-toggleable__label-arrow:before {color: black;}#sk-container-id-3 div.sk-toggleable__content {max-height: 0;max-width: 0;overflow: hidden;text-align: left;background-color: #f0f8ff;}#sk-container-id-3 div.sk-toggleable__content pre {margin: 0.2em;color: black;border-radius: 0.25em;background-color: #f0f8ff;}#sk-container-id-3 input.sk-toggleable__control:checked~div.sk-toggleable__content {max-height: 200px;max-width: 100%;overflow: auto;}#sk-container-id-3 input.sk-toggleable__control:checked~label.sk-toggleable__label-arrow:before {content: \"▾\";}#sk-container-id-3 div.sk-estimator input.sk-toggleable__control:checked~label.sk-toggleable__label {background-color: #d4ebff;}#sk-container-id-3 div.sk-label input.sk-toggleable__control:checked~label.sk-toggleable__label {background-color: #d4ebff;}#sk-container-id-3 input.sk-hidden--visually {border: 0;clip: rect(1px 1px 1px 1px);clip: rect(1px, 1px, 1px, 1px);height: 1px;margin: -1px;overflow: hidden;padding: 0;position: absolute;width: 1px;}#sk-container-id-3 div.sk-estimator {font-family: monospace;background-color: #f0f8ff;border: 1px dotted black;border-radius: 0.25em;box-sizing: border-box;margin-bottom: 0.5em;}#sk-container-id-3 div.sk-estimator:hover {background-color: #d4ebff;}#sk-container-id-3 div.sk-parallel-item::after {content: \"\";width: 100%;border-bottom: 1px solid gray;flex-grow: 1;}#sk-container-id-3 div.sk-label:hover label.sk-toggleable__label {background-color: #d4ebff;}#sk-container-id-3 div.sk-serial::before {content: \"\";position: absolute;border-left: 1px solid gray;box-sizing: border-box;top: 0;bottom: 0;left: 50%;z-index: 0;}#sk-container-id-3 div.sk-serial {display: flex;flex-direction: column;align-items: center;background-color: white;padding-right: 0.2em;padding-left: 0.2em;position: relative;}#sk-container-id-3 div.sk-item {position: relative;z-index: 1;}#sk-container-id-3 div.sk-parallel {display: flex;align-items: stretch;justify-content: center;background-color: white;position: relative;}#sk-container-id-3 div.sk-item::before, #sk-container-id-3 div.sk-parallel-item::before {content: \"\";position: absolute;border-left: 1px solid gray;box-sizing: border-box;top: 0;bottom: 0;left: 50%;z-index: -1;}#sk-container-id-3 div.sk-parallel-item {display: flex;flex-direction: column;z-index: 1;position: relative;background-color: white;}#sk-container-id-3 div.sk-parallel-item:first-child::after {align-self: flex-end;width: 50%;}#sk-container-id-3 div.sk-parallel-item:last-child::after {align-self: flex-start;width: 50%;}#sk-container-id-3 div.sk-parallel-item:only-child::after {width: 0;}#sk-container-id-3 div.sk-dashed-wrapped {border: 1px dashed gray;margin: 0 0.4em 0.5em 0.4em;box-sizing: border-box;padding-bottom: 0.4em;background-color: white;}#sk-container-id-3 div.sk-label label {font-family: monospace;font-weight: bold;display: inline-block;line-height: 1.2em;}#sk-container-id-3 div.sk-label-container {text-align: center;}#sk-container-id-3 div.sk-container {/* jupyter's `normalize.less` sets `[hidden] { display: none; }` but bootstrap.min.css set `[hidden] { display: none !important; }` so we also need the `!important` here to be able to override the default hidden behavior on the sphinx rendered scikit-learn.org. See: https://github.com/scikit-learn/scikit-learn/issues/21755 */display: inline-block !important;position: relative;}#sk-container-id-3 div.sk-text-repr-fallback {display: none;}</style><div id=\"sk-container-id-3\" class=\"sk-top-container\"><div class=\"sk-text-repr-fallback\"><pre>RandomForestRegressor()</pre><b>In a Jupyter environment, please rerun this cell to show the HTML representation or trust the notebook. <br />On GitHub, the HTML representation is unable to render, please try loading this page with nbviewer.org.</b></div><div class=\"sk-container\" hidden><div class=\"sk-item\"><div class=\"sk-estimator sk-toggleable\"><input class=\"sk-toggleable__control sk-hidden--visually\" id=\"sk-estimator-id-3\" type=\"checkbox\" checked><label for=\"sk-estimator-id-3\" class=\"sk-toggleable__label sk-toggleable__label-arrow\">RandomForestRegressor</label><div class=\"sk-toggleable__content\"><pre>RandomForestRegressor()</pre></div></div></div></div></div>"
      ],
      "text/plain": [
       "RandomForestRegressor()"
      ]
     },
     "execution_count": 77,
     "metadata": {},
     "output_type": "execute_result"
    }
   ],
   "source": [
    "rf_reg.fit(X_train, y_train)"
   ]
  },
  {
   "cell_type": "code",
   "execution_count": 78,
   "metadata": {},
   "outputs": [],
   "source": [
    "rf_predicted_y= rf_reg.predict(X_test)"
   ]
  },
  {
   "cell_type": "code",
   "execution_count": 79,
   "metadata": {},
   "outputs": [
    {
     "data": {
      "text/plain": [
       "0.3643475210457515"
      ]
     },
     "execution_count": 79,
     "metadata": {},
     "output_type": "execute_result"
    }
   ],
   "source": [
    "r2_score(y_test, rf_predicted_y)"
   ]
  },
  {
   "cell_type": "code",
   "execution_count": 80,
   "metadata": {},
   "outputs": [
    {
     "data": {
      "text/plain": [
       "0.751357142857143"
      ]
     },
     "execution_count": 80,
     "metadata": {},
     "output_type": "execute_result"
    }
   ],
   "source": [
    "mean_absolute_error(y_test, rf_predicted_y)"
   ]
  },
  {
   "cell_type": "code",
   "execution_count": 81,
   "metadata": {},
   "outputs": [
    {
     "data": {
      "text/plain": [
       "1.3783280793650794"
      ]
     },
     "execution_count": 81,
     "metadata": {},
     "output_type": "execute_result"
    }
   ],
   "source": [
    "mean_squared_error(y_test, rf_predicted_y)"
   ]
  },
  {
   "cell_type": "code",
   "execution_count": 82,
   "metadata": {},
   "outputs": [],
   "source": [
    "lr_predictions=pd.Series(list(linreg_predicted_y), name= 'Linear Regressor')\n",
    "rf_predictions = pd.Series(list(rf_predicted_y), name='Random Forest Regressor')\n",
    "lasso_predictions = pd.Series(list(lasso_predicted_y), name='Lasso Regressor')"
   ]
  },
  {
   "cell_type": "code",
   "execution_count": 83,
   "metadata": {},
   "outputs": [],
   "source": [
    "actual_y= y_test.reset_index(drop=True)"
   ]
  },
  {
   "cell_type": "code",
   "execution_count": 84,
   "metadata": {
    "scrolled": true
   },
   "outputs": [
    {
     "data": {
      "text/html": [
       "<div>\n",
       "<style scoped>\n",
       "    .dataframe tbody tr th:only-of-type {\n",
       "        vertical-align: middle;\n",
       "    }\n",
       "\n",
       "    .dataframe tbody tr th {\n",
       "        vertical-align: top;\n",
       "    }\n",
       "\n",
       "    .dataframe thead th {\n",
       "        text-align: right;\n",
       "    }\n",
       "</style>\n",
       "<table border=\"1\" class=\"dataframe\">\n",
       "  <thead>\n",
       "    <tr style=\"text-align: right;\">\n",
       "      <th></th>\n",
       "      <th>Linear Regressor</th>\n",
       "      <th>Random Forest Regressor</th>\n",
       "      <th>Lasso Regressor</th>\n",
       "      <th>code</th>\n",
       "    </tr>\n",
       "  </thead>\n",
       "  <tbody>\n",
       "    <tr>\n",
       "      <th>0</th>\n",
       "      <td>[3.3722587625474274]</td>\n",
       "      <td>4.560000</td>\n",
       "      <td>3.247937</td>\n",
       "      <td>5</td>\n",
       "    </tr>\n",
       "    <tr>\n",
       "      <th>1</th>\n",
       "      <td>[4.08650615001557]</td>\n",
       "      <td>3.710000</td>\n",
       "      <td>4.000638</td>\n",
       "      <td>0</td>\n",
       "    </tr>\n",
       "    <tr>\n",
       "      <th>2</th>\n",
       "      <td>[4.247554336608005]</td>\n",
       "      <td>4.620000</td>\n",
       "      <td>4.011754</td>\n",
       "      <td>5</td>\n",
       "    </tr>\n",
       "    <tr>\n",
       "      <th>3</th>\n",
       "      <td>[4.350456608793334]</td>\n",
       "      <td>3.850000</td>\n",
       "      <td>4.096661</td>\n",
       "      <td>4</td>\n",
       "    </tr>\n",
       "    <tr>\n",
       "      <th>4</th>\n",
       "      <td>[3.7953027336480414]</td>\n",
       "      <td>4.790000</td>\n",
       "      <td>3.683189</td>\n",
       "      <td>5</td>\n",
       "    </tr>\n",
       "    <tr>\n",
       "      <th>5</th>\n",
       "      <td>[3.9424239025315035]</td>\n",
       "      <td>2.360000</td>\n",
       "      <td>3.807198</td>\n",
       "      <td>4</td>\n",
       "    </tr>\n",
       "    <tr>\n",
       "      <th>6</th>\n",
       "      <td>[4.085316948215458]</td>\n",
       "      <td>4.280000</td>\n",
       "      <td>3.691193</td>\n",
       "      <td>5</td>\n",
       "    </tr>\n",
       "    <tr>\n",
       "      <th>7</th>\n",
       "      <td>[4.496468106963579]</td>\n",
       "      <td>4.660000</td>\n",
       "      <td>4.042264</td>\n",
       "      <td>5</td>\n",
       "    </tr>\n",
       "    <tr>\n",
       "      <th>8</th>\n",
       "      <td>[3.7173543306317303]</td>\n",
       "      <td>4.900000</td>\n",
       "      <td>3.714612</td>\n",
       "      <td>5</td>\n",
       "    </tr>\n",
       "    <tr>\n",
       "      <th>9</th>\n",
       "      <td>[3.752005472099029]</td>\n",
       "      <td>3.300000</td>\n",
       "      <td>3.384877</td>\n",
       "      <td>4</td>\n",
       "    </tr>\n",
       "    <tr>\n",
       "      <th>10</th>\n",
       "      <td>[3.179699210290873]</td>\n",
       "      <td>1.760000</td>\n",
       "      <td>3.088868</td>\n",
       "      <td>0</td>\n",
       "    </tr>\n",
       "    <tr>\n",
       "      <th>11</th>\n",
       "      <td>[1.9886757997291178]</td>\n",
       "      <td>1.710000</td>\n",
       "      <td>2.183313</td>\n",
       "      <td>1</td>\n",
       "    </tr>\n",
       "    <tr>\n",
       "      <th>12</th>\n",
       "      <td>[3.7571312473695997]</td>\n",
       "      <td>4.450000</td>\n",
       "      <td>3.642274</td>\n",
       "      <td>5</td>\n",
       "    </tr>\n",
       "    <tr>\n",
       "      <th>13</th>\n",
       "      <td>[3.252776676744033]</td>\n",
       "      <td>2.560000</td>\n",
       "      <td>3.132985</td>\n",
       "      <td>3</td>\n",
       "    </tr>\n",
       "    <tr>\n",
       "      <th>14</th>\n",
       "      <td>[3.6132621483063923]</td>\n",
       "      <td>4.560000</td>\n",
       "      <td>3.223992</td>\n",
       "      <td>5</td>\n",
       "    </tr>\n",
       "    <tr>\n",
       "      <th>15</th>\n",
       "      <td>[3.9379817408654043]</td>\n",
       "      <td>3.020000</td>\n",
       "      <td>3.798917</td>\n",
       "      <td>3</td>\n",
       "    </tr>\n",
       "    <tr>\n",
       "      <th>16</th>\n",
       "      <td>[4.204447096245944]</td>\n",
       "      <td>3.960000</td>\n",
       "      <td>4.037898</td>\n",
       "      <td>4</td>\n",
       "    </tr>\n",
       "    <tr>\n",
       "      <th>17</th>\n",
       "      <td>[2.4247862155717583]</td>\n",
       "      <td>3.370000</td>\n",
       "      <td>2.616930</td>\n",
       "      <td>5</td>\n",
       "    </tr>\n",
       "    <tr>\n",
       "      <th>18</th>\n",
       "      <td>[3.906333184234863]</td>\n",
       "      <td>2.700000</td>\n",
       "      <td>3.747252</td>\n",
       "      <td>4</td>\n",
       "    </tr>\n",
       "    <tr>\n",
       "      <th>19</th>\n",
       "      <td>[3.288051786313421]</td>\n",
       "      <td>4.800000</td>\n",
       "      <td>3.392854</td>\n",
       "      <td>5</td>\n",
       "    </tr>\n",
       "    <tr>\n",
       "      <th>20</th>\n",
       "      <td>[4.119266544688019]</td>\n",
       "      <td>3.858667</td>\n",
       "      <td>4.014390</td>\n",
       "      <td>4</td>\n",
       "    </tr>\n",
       "    <tr>\n",
       "      <th>21</th>\n",
       "      <td>[2.5588432702642736]</td>\n",
       "      <td>2.800000</td>\n",
       "      <td>2.932000</td>\n",
       "      <td>3</td>\n",
       "    </tr>\n",
       "    <tr>\n",
       "      <th>22</th>\n",
       "      <td>[2.0152832841940684]</td>\n",
       "      <td>2.340000</td>\n",
       "      <td>2.457591</td>\n",
       "      <td>3</td>\n",
       "    </tr>\n",
       "    <tr>\n",
       "      <th>23</th>\n",
       "      <td>[2.4483067755066426]</td>\n",
       "      <td>3.330000</td>\n",
       "      <td>2.586280</td>\n",
       "      <td>3</td>\n",
       "    </tr>\n",
       "    <tr>\n",
       "      <th>24</th>\n",
       "      <td>[3.377350679310694]</td>\n",
       "      <td>3.583333</td>\n",
       "      <td>3.559228</td>\n",
       "      <td>4</td>\n",
       "    </tr>\n",
       "    <tr>\n",
       "      <th>25</th>\n",
       "      <td>[2.223343411734573]</td>\n",
       "      <td>1.680000</td>\n",
       "      <td>2.331248</td>\n",
       "      <td>5</td>\n",
       "    </tr>\n",
       "    <tr>\n",
       "      <th>26</th>\n",
       "      <td>[3.161442506638713]</td>\n",
       "      <td>4.760000</td>\n",
       "      <td>3.273736</td>\n",
       "      <td>5</td>\n",
       "    </tr>\n",
       "    <tr>\n",
       "      <th>27</th>\n",
       "      <td>[3.452211976091103]</td>\n",
       "      <td>2.250000</td>\n",
       "      <td>3.326036</td>\n",
       "      <td>2</td>\n",
       "    </tr>\n",
       "  </tbody>\n",
       "</table>\n",
       "</div>"
      ],
      "text/plain": [
       "        Linear Regressor  Random Forest Regressor  Lasso Regressor  code\n",
       "0   [3.3722587625474274]                 4.560000         3.247937     5\n",
       "1     [4.08650615001557]                 3.710000         4.000638     0\n",
       "2    [4.247554336608005]                 4.620000         4.011754     5\n",
       "3    [4.350456608793334]                 3.850000         4.096661     4\n",
       "4   [3.7953027336480414]                 4.790000         3.683189     5\n",
       "5   [3.9424239025315035]                 2.360000         3.807198     4\n",
       "6    [4.085316948215458]                 4.280000         3.691193     5\n",
       "7    [4.496468106963579]                 4.660000         4.042264     5\n",
       "8   [3.7173543306317303]                 4.900000         3.714612     5\n",
       "9    [3.752005472099029]                 3.300000         3.384877     4\n",
       "10   [3.179699210290873]                 1.760000         3.088868     0\n",
       "11  [1.9886757997291178]                 1.710000         2.183313     1\n",
       "12  [3.7571312473695997]                 4.450000         3.642274     5\n",
       "13   [3.252776676744033]                 2.560000         3.132985     3\n",
       "14  [3.6132621483063923]                 4.560000         3.223992     5\n",
       "15  [3.9379817408654043]                 3.020000         3.798917     3\n",
       "16   [4.204447096245944]                 3.960000         4.037898     4\n",
       "17  [2.4247862155717583]                 3.370000         2.616930     5\n",
       "18   [3.906333184234863]                 2.700000         3.747252     4\n",
       "19   [3.288051786313421]                 4.800000         3.392854     5\n",
       "20   [4.119266544688019]                 3.858667         4.014390     4\n",
       "21  [2.5588432702642736]                 2.800000         2.932000     3\n",
       "22  [2.0152832841940684]                 2.340000         2.457591     3\n",
       "23  [2.4483067755066426]                 3.330000         2.586280     3\n",
       "24   [3.377350679310694]                 3.583333         3.559228     4\n",
       "25   [2.223343411734573]                 1.680000         2.331248     5\n",
       "26   [3.161442506638713]                 4.760000         3.273736     5\n",
       "27   [3.452211976091103]                 2.250000         3.326036     2"
      ]
     },
     "execution_count": 84,
     "metadata": {},
     "output_type": "execute_result"
    }
   ],
   "source": [
    "pd.concat([lr_predictions, rf_predictions, lasso_predictions, actual_y], axis=1)"
   ]
  },
  {
   "cell_type": "code",
   "execution_count": 85,
   "metadata": {},
   "outputs": [],
   "source": [
    "#saving the best model\n",
    "import pickle"
   ]
  },
  {
   "cell_type": "code",
   "execution_count": 88,
   "metadata": {},
   "outputs": [],
   "source": [
    "# save the model to disk\n",
    "filename = 'career allocation.sav'\n",
    "pickle.dump(rf_reg, open(filename, 'wb'))  #file is opened and written to in binary mode"
   ]
  },
  {
   "cell_type": "code",
   "execution_count": 89,
   "metadata": {},
   "outputs": [],
   "source": [
    "loaded_model_r2 = pickle.load(open('career allocation.sav', 'rb'))   #read in binary mode"
   ]
  },
  {
   "cell_type": "code",
   "execution_count": 90,
   "metadata": {},
   "outputs": [],
   "source": [
    "#save another regressor model\n",
    "# save the model to disk\n",
    "filename = 'color_measurement_LR_regressmodel2.sav'\n",
    "pickle.dump(lin_reg, open(filename, 'wb'))  #file is opened and written to in binary mode"
   ]
  },
  {
   "cell_type": "code",
   "execution_count": 91,
   "metadata": {},
   "outputs": [],
   "source": [
    "loaded_model_r3 = pickle.load(open('career allocation.sav', 'rb'))   #read in binary mode"
   ]
  },
  {
   "cell_type": "markdown",
   "metadata": {},
   "source": [
    "**Predicting samples**"
   ]
  },
  {
   "cell_type": "code",
   "execution_count": 92,
   "metadata": {},
   "outputs": [
    {
     "data": {
      "text/plain": [
       "5.2164285714285725"
      ]
     },
     "execution_count": 92,
     "metadata": {},
     "output_type": "execute_result"
    }
   ],
   "source": [
    "loaded_model_r2.predict([[7,7,7,7,7,7]]).item()"
   ]
  },
  {
   "cell_type": "code",
   "execution_count": 93,
   "metadata": {},
   "outputs": [
    {
     "data": {
      "text/plain": [
       "2.58"
      ]
     },
     "execution_count": 93,
     "metadata": {},
     "output_type": "execute_result"
    }
   ],
   "source": [
    "loaded_model_r2.predict([[4, 5, 1, 4, 1, 5]]).item()"
   ]
  },
  {
   "cell_type": "code",
   "execution_count": 94,
   "metadata": {},
   "outputs": [
    {
     "data": {
      "text/plain": [
       "0.5"
      ]
     },
     "execution_count": 94,
     "metadata": {},
     "output_type": "execute_result"
    }
   ],
   "source": [
    "loaded_model_r2.predict([[1, 4, 7, 4, 2, 0]]).item()"
   ]
  },
  {
   "cell_type": "code",
   "execution_count": null,
   "metadata": {},
   "outputs": [],
   "source": []
  },
  {
   "cell_type": "code",
   "execution_count": null,
   "metadata": {},
   "outputs": [],
   "source": []
  }
 ],
 "metadata": {
  "kernelspec": {
   "display_name": "Python 3 (ipykernel)",
   "language": "python",
   "name": "python3"
  },
  "language_info": {
   "codemirror_mode": {
    "name": "ipython",
    "version": 3
   },
   "file_extension": ".py",
   "mimetype": "text/x-python",
   "name": "python",
   "nbconvert_exporter": "python",
   "pygments_lexer": "ipython3",
   "version": "3.10.8"
  }
 },
 "nbformat": 4,
 "nbformat_minor": 4
}
